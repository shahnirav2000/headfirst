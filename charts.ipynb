{
 "cells": [
  {
   "cell_type": "code",
   "execution_count": 44,
   "metadata": {},
   "outputs": [
    {
     "name": "stdout",
     "output_type": "stream",
     "text": [
      "Darius (under 13) 100m Fly\n"
     ]
    }
   ],
   "source": [
    "import swimclub\n",
    "\n",
    "FILE_NAME = \"Darius-13-100m-Fly.txt\"\n",
    "OUTPUT_HTML_FILE_NAME = f\"{FILE_NAME.split('.')[0]}.html\"\n",
    "\n",
    "\n",
    "swimmer, age, distance, stroke, times, average, converts = swimclub.read_swim_data(FILE_NAME)\n",
    "\n",
    "title = f\"{swimmer} (under {age}) {distance} {stroke}\"\n",
    "print(title)\n",
    "\n",
    "import hfpy_utils"
   ]
  },
  {
   "cell_type": "code",
   "execution_count": 53,
   "metadata": {},
   "outputs": [],
   "source": [
    "\n",
    "\n",
    "html = \"\"\n",
    "html += f\"<!DOCTYPE html>\"\n",
    "html += f\"<html>\"\n",
    "html += f\"<head>\"\n",
    "html += f\"<title>{title}</title>\"\n",
    "html += f\"</head>\"\n",
    "html += f\"<body><h3>{title}</h3>\"\n",
    "\n",
    "##create bars for each swimmer\n",
    "converts.reverse()\n",
    "times.reverse()\n",
    "\n",
    "svgs = \"\"\n",
    "max_swim_swimmer = max(converts)\n",
    "for count, convert in enumerate(converts):\n",
    "    bar_width = hfpy_utils.convert2range(convert,0,max_swim_swimmer,0,400)\n",
    "    svgs += f\"<svg height='30' width='400'>\"\n",
    "    svgs += f\"<rect height='30' width='{bar_width}' style='fill:rgb(0,0,255);' />\"\n",
    "    svgs += f\"</svg>{count} -> {times[count]}<br />\"\n",
    "footer = f\"<p>Average Time {average}</p>\"    \n",
    "html += svgs + footer + f\"</body>\"\n",
    "html += f\"</html>\""
   ]
  },
  {
   "cell_type": "code",
   "execution_count": 49,
   "metadata": {},
   "outputs": [
    {
     "name": "stdout",
     "output_type": "stream",
     "text": [
      "<!DOCTYPE html><html><head><title>Darius (under 13) 100m Fly</title></head><body><h3>Darius (under 13) 100m Fly</h3><svg height='30' width='400'><rect height='30' width='388.3' style='fill:rgb(0,0,255);' /></svg>1:28.30<br /><svg height='30' width='400'><rect height='30' width='386.76' style='fill:rgb(0,0,255);' /></svg>1:27.95<br /><svg height='30' width='400'><rect height='30' width='365.96' style='fill:rgb(0,0,255);' /></svg>1:23.22<br /><svg height='30' width='400'><rect height='30' width='400.0' style='fill:rgb(0,0,255);' /></svg>1:30.96<br /><svg height='30' width='400'><rect height='30' width='356.51' style='fill:rgb(0,0,255);' /></svg>1:21.07<br /><svg height='30' width='400'><rect height='30' width='386.76' style='fill:rgb(0,0,255);' /></svg>1:27.95<br /><p>Average Time 1:26.58</p></body></html>\n"
     ]
    }
   ],
   "source": [
    "print(html)\n",
    "\n"
   ]
  },
  {
   "cell_type": "code",
   "execution_count": 54,
   "metadata": {},
   "outputs": [],
   "source": [
    "with open(f\"{swimclub.FOLDER}html/{OUTPUT_HTML_FILE_NAME}\",\"w\") as file:\n",
    "    print(html, file=file)"
   ]
  },
  {
   "cell_type": "code",
   "execution_count": null,
   "metadata": {},
   "outputs": [],
   "source": []
  }
 ],
 "metadata": {
  "kernelspec": {
   "display_name": "Python 3",
   "language": "python",
   "name": "python3"
  },
  "language_info": {
   "codemirror_mode": {
    "name": "ipython",
    "version": 3
   },
   "file_extension": ".py",
   "mimetype": "text/x-python",
   "name": "python",
   "nbconvert_exporter": "python",
   "pygments_lexer": "ipython3",
   "version": "3.9.6"
  }
 },
 "nbformat": 4,
 "nbformat_minor": 2
}
