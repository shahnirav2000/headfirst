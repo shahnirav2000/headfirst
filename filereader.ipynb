{
 "cells": [
  {
   "cell_type": "code",
   "execution_count": 6,
   "metadata": {},
   "outputs": [
    {
     "name": "stdout",
     "output_type": "stream",
     "text": [
      "This is a test file\n",
      "<built-in method read of _io.TextIOWrapper object at 0x105adc5f0>\n"
     ]
    }
   ],
   "source": [
    "file_path = \"/Users/nirav/Downloads/IncomeTaxReturns2021.pdf\"\n",
    "\n",
    "try:\n",
    "    with open(file_path, 'r') as file:\n",
    "        print(\"This is a test file\")\n",
    "        content = file.read\n",
    "        print(content)\n",
    "except FileNotFoundError:\n",
    "    print(\"File \"+file_path+\" not found\")\n",
    "except Exception as e:\n",
    "    print(\"An error occured: {e} \")\n",
    "\n"
   ]
  },
  {
   "cell_type": "code",
   "execution_count": 78,
   "metadata": {},
   "outputs": [
    {
     "name": "stdout",
     "output_type": "stream",
     "text": [
      "['3:03.84,3:04.27,3:01.49,3:04.27,2:52.44\\n']\n",
      "[18384, 18427, 18149, 18427, 17244]\n",
      "18126.2\n",
      "' 1.0 ' 26 575\n",
      "575\n",
      "1.0 : 26 . 575\n"
     ]
    }
   ],
   "source": [
    "import statistics\n",
    "\n",
    "FOLDER = \"../Data/swimdata/\"\n",
    "FILE = \"Darius-13-200m-IM.txt\"\n",
    "\n",
    "#Getting the key attributes from file name\n",
    "swimmer, age, distance, style = FILE.removesuffix(\".txt\").split(\"-\")\n",
    "\n",
    "#Going through the first file and extracting times\n",
    "with open(FOLDER+FILE) as file:\n",
    "    lines = file.readlines()\n",
    "    print(lines)\n",
    "    times = lines[0].rstrip().split(\",\")\n",
    "    converts = []\n",
    "    for t in times:\n",
    "        mins, rest = t.split(\":\")\n",
    "        sec,hundredths = rest.split(\".\")\n",
    "        total_millisec = int(mins)*60*100 + int(sec)*100 + int(hundredths)\n",
    "        converts.append(total_millisec)\n",
    "    print(converts)\n",
    "    average = statistics.mean(converts)         \n",
    "    print(average) \n",
    "\n",
    "\n",
    "average = 8657.5\n",
    "#Converting average back to min/sec/100ths sec    \n",
    "#. divide by 100 will get you seconds\n",
    "avg_mins = str((average/100)/60).split(\".\")[0]\n",
    "avg_secs, avg_100s = str((average - int(avg_mins)*60*100)/100).split(\".\")\n",
    "\n",
    "print(\"'\",avg_mins,\"'\",avg_secs,avg_100s)\n",
    "\n",
    "print(round(int(avg_100s.strip()),2))\n",
    "print(avg_mins,\":\",round(int(avg_secs),2),\".\", round(int(avg_100s),2))\n",
    "#. divide by 60 and take part before . will give mins\n",
    "#. take post decimal part and     \n",
    "\n",
    "\n",
    "     #print(dir(lines[0]))\n",
    "     #print(help(lines[0].rstrip))\n",
    "     #rint(lines[0].rstrip().split(\",\"))\n",
    "   \n",
    "\n"
   ]
  },
  {
   "cell_type": "code",
   "execution_count": 34,
   "metadata": {},
   "outputs": [
    {
     "ename": "TypeError",
     "evalue": "SwimmerPerformance() takes no arguments",
     "output_type": "error",
     "traceback": [
      "\u001b[0;31m---------------------------------------------------------------------------\u001b[0m",
      "\u001b[0;31mTypeError\u001b[0m                                 Traceback (most recent call last)",
      "Cell \u001b[0;32mIn[34], line 9\u001b[0m\n\u001b[1;32m      6\u001b[0m     distance\n\u001b[1;32m      7\u001b[0m     style\n\u001b[0;32m----> 9\u001b[0m \u001b[43mSwimmerPerformance\u001b[49m\u001b[43m(\u001b[49m\u001b[43mswimmer\u001b[49m\u001b[43m,\u001b[49m\u001b[43m \u001b[49m\u001b[43mage\u001b[49m\u001b[43m,\u001b[49m\u001b[43m \u001b[49m\u001b[43mdistance\u001b[49m\u001b[43m,\u001b[49m\u001b[43m \u001b[49m\u001b[43mstyle\u001b[49m\u001b[43m)\u001b[49m\n\u001b[1;32m     11\u001b[0m \u001b[38;5;28mprint\u001b[39m(\u001b[38;5;28mdir\u001b[39m(converts))\n\u001b[1;32m     13\u001b[0m \u001b[38;5;28mprint\u001b[39m(help(converts\u001b[38;5;241m.\u001b[39mappend))\n",
      "\u001b[0;31mTypeError\u001b[0m: SwimmerPerformance() takes no arguments"
     ]
    }
   ],
   "source": [
    "converts = []\n",
    "\n",
    "class SwimmerPerformance (swimmer, age, distance, style, timings, convertedtimings):\n",
    "    swimmer = this.swimmer\n",
    "    age\n",
    "    distance\n",
    "    style\n",
    "\n",
    "SwimmerPerformance(swimmer, age, distance, style)\n",
    "\n",
    "print(dir(converts))\n",
    "\n",
    "print(help(converts.append))"
   ]
  },
  {
   "cell_type": "code",
   "execution_count": null,
   "metadata": {},
   "outputs": [],
   "source": []
  }
 ],
 "metadata": {
  "kernelspec": {
   "display_name": "Python 3",
   "language": "python",
   "name": "python3"
  },
  "language_info": {
   "codemirror_mode": {
    "name": "ipython",
    "version": 3
   },
   "file_extension": ".py",
   "mimetype": "text/x-python",
   "name": "python",
   "nbconvert_exporter": "python",
   "pygments_lexer": "ipython3",
   "version": "3.9.6"
  }
 },
 "nbformat": 4,
 "nbformat_minor": 2
}
