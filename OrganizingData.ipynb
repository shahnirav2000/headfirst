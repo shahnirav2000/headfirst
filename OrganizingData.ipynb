{
 "cells": [
  {
   "cell_type": "code",
   "execution_count": 21,
   "metadata": {},
   "outputs": [
    {
     "name": "stdout",
     "output_type": "stream",
     "text": [
      "60\n"
     ]
    }
   ],
   "source": [
    "import os\n",
    "import swimclub\n",
    "import createhtmlchart\n",
    "import webbrowser\n",
    "\n",
    "swim_files = os.listdir(swimclub.FOLDER)\n",
    "swim_files.remove(\".DS_Store\")\n",
    "swim_files.remove(\"html\")\n",
    "swim_files.remove(\"Sahaj\")\n",
    "\n",
    "print(len(swim_files))"
   ]
  },
  {
   "cell_type": "code",
   "execution_count": null,
   "metadata": {},
   "outputs": [],
   "source": [
    "swimmers = []\n",
    "swimmers_details = {}\n",
    "\n",
    "for n, file in enumerate(swim_files,1):\n",
    "        #2. get swimmer details\n",
    "        swimmer, age, distance, stroke, times, average, converts = swimclub.read_swim_data(file)\n",
    "        if swimmer not in swimmers_details.keys():\n",
    "            swimmers_details[swimmer] = []\n",
    "        swimmers_details[swimmer].append(file)\n"
   ]
  },
  {
   "cell_type": "code",
   "execution_count": 20,
   "metadata": {},
   "outputs": [
    {
     "ename": "NameError",
     "evalue": "name 'createhtmlchart' is not defined",
     "output_type": "error",
     "traceback": [
      "\u001b[0;31m---------------------------------------------------------------------------\u001b[0m",
      "\u001b[0;31mNameError\u001b[0m                                 Traceback (most recent call last)",
      "Cell \u001b[0;32mIn[20], line 5\u001b[0m\n\u001b[1;32m      3\u001b[0m \u001b[38;5;28;01mif\u001b[39;00m input_swimmer_name \u001b[38;5;129;01min\u001b[39;00m swimmers_details:\n\u001b[1;32m      4\u001b[0m     swimmer_files \u001b[38;5;241m=\u001b[39m swimmers_details\u001b[38;5;241m.\u001b[39mget(input_swimmer_name)\n\u001b[0;32m----> 5\u001b[0m     swimmer_details_list \u001b[38;5;241m=\u001b[39m \u001b[43mcreatehtmlchart\u001b[49m\u001b[38;5;241m.\u001b[39mgetswimmerdetails(input_swimmer_name, swimmer_files)\n\u001b[1;32m      6\u001b[0m     html_output \u001b[38;5;241m=\u001b[39m createhtmlchart\u001b[38;5;241m.\u001b[39mgethtmloutputforswimmer(swimmer,swimmer_details_list)\n\u001b[1;32m      7\u001b[0m     \u001b[38;5;66;03m#4. write html to file\u001b[39;00m\n",
      "\u001b[0;31mNameError\u001b[0m: name 'createhtmlchart' is not defined"
     ]
    }
   ],
   "source": [
    "#asking user to input the name of user for which you want the charts\n",
    "input_swimmer_name = input(\"Please enter user name for which you want to see the details : \")\n",
    "if input_swimmer_name in swimmers_details:\n",
    "    swimmer_files = swimmers_details.get(input_swimmer_name)\n",
    "    swimmer_details_list = createhtmlchart.getswimmerdetails(input_swimmer_name, swimmer_files)\n",
    "    html_output = createhtmlchart.gethtmloutputforswimmer(swimmer,swimmer_details_list)\n",
    "    #4. write html to file\n",
    "    with open(swimclub.FOLDER+\"html/\"+input_swimmer_name+\".html\", \"w\") as file_html:\n",
    "            print(html_output, file = file_html)\n",
    "            print(os.path.realpath(file_html.name))\n",
    "            webbrowser.open(\"file://\"+os.path.realpath(file_html.name))\n",
    "else:\n",
    "    input_swimmer_name = input(\"Name not found. Please enter the name again : \")\n"
   ]
  },
  {
   "cell_type": "code",
   "execution_count": null,
   "metadata": {},
   "outputs": [],
   "source": []
  },
  {
   "cell_type": "code",
   "execution_count": null,
   "metadata": {},
   "outputs": [],
   "source": []
  }
 ],
 "metadata": {
  "kernelspec": {
   "display_name": "Python 3",
   "language": "python",
   "name": "python3"
  },
  "language_info": {
   "codemirror_mode": {
    "name": "ipython",
    "version": 3
   },
   "file_extension": ".py",
   "mimetype": "text/x-python",
   "name": "python",
   "nbconvert_exporter": "python",
   "pygments_lexer": "ipython3",
   "version": "3.9.6"
  }
 },
 "nbformat": 4,
 "nbformat_minor": 2
}
