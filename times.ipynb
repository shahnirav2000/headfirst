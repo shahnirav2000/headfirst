{
 "cells": [
  {
   "cell_type": "code",
   "execution_count": 1,
   "metadata": {},
   "outputs": [
    {
     "name": "stdout",
     "output_type": "stream",
     "text": [
      "1:26.58\n"
     ]
    }
   ],
   "source": [
    "import statistics\n",
    "\n",
    "FOLDER = \"../Data/swimdata/\"\n",
    "FILE = \"Darius-13-100m-Fly.txt\"\n",
    "\n",
    "#Getting the key attributes from file name\n",
    "swimmer, age, distance, style = FILE.removesuffix(\".txt\").split(\"-\")\n",
    "\n",
    "#Going through the first file and extracting times\n",
    "with open(FOLDER+FILE) as file:\n",
    "    lines = file.readlines()\n",
    "    times = lines[0].rstrip().split(\",\")\n",
    "    converts = []\n",
    "    for t in times:\n",
    "        mins, rest = t.split(\":\")\n",
    "        sec,hundredths = rest.split(\".\")\n",
    "        total_millisec = int(mins)*60*100 + int(sec)*100 + int(hundredths)\n",
    "        converts.append(total_millisec)\n",
    "    \n",
    "#Finding average\n",
    "average = statistics.mean(converts)\n",
    "\n",
    "#Converting average back to the format needed\n",
    "mins_secs, hundredths = str(round(average/100,2)).split(\".\")\n",
    "mins_secs = int(mins_secs)\n",
    "mins = mins_secs//60\n",
    "seconds = mins_secs-mins*60\n",
    "average = str(mins)+\":\"+str(seconds)+\".\"+hundredths\n",
    "\n",
    "#print average\n",
    "print(average)\n"
   ]
  },
  {
   "cell_type": "code",
   "execution_count": 3,
   "metadata": {},
   "outputs": [
    {
     "data": {
      "text/plain": [
       "('Darius',\n",
       " '13',\n",
       " '100m',\n",
       " 'Fly',\n",
       " ['1:27.95', '1:21.07', '1:30.96', '1:23.22', '1:27.95', '1:28.30'],\n",
       " '1:26.58')"
      ]
     },
     "execution_count": 3,
     "metadata": {},
     "output_type": "execute_result"
    }
   ],
   "source": []
  }
 ],
 "metadata": {
  "kernelspec": {
   "display_name": "Python 3",
   "language": "python",
   "name": "python3"
  },
  "language_info": {
   "codemirror_mode": {
    "name": "ipython",
    "version": 3
   },
   "file_extension": ".py",
   "mimetype": "text/x-python",
   "name": "python",
   "nbconvert_exporter": "python",
   "pygments_lexer": "ipython3",
   "version": "3.9.6"
  }
 },
 "nbformat": 4,
 "nbformat_minor": 2
}
